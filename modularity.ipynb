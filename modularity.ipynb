{
 "cells": [
  {
   "cell_type": "code",
   "execution_count": null,
   "metadata": {},
   "outputs": [],
   "source": [
    "# Author: Vanshika Gupta\n",
    "# Jointly with: Prof Chrysafis Vogiatzis "
   ]
  },
  {
   "cell_type": "code",
   "execution_count": 3,
   "metadata": {},
   "outputs": [],
   "source": [
    "import networkx as nx\n",
    "from itertools import combinations\n",
    "import matplotlib.pyplot as plt\n",
    "from itertools import combinations\n",
    "import matplotlib.pyplot as plt"
   ]
  },
  {
   "cell_type": "code",
   "execution_count": 4,
   "metadata": {},
   "outputs": [],
   "source": [
    "def compute_communities(G, communities):\n",
    "    iteration=0\n",
    "    maxModularity=1000\n",
    "    prevModularity=nx.algorithms.community.quality.modularity(G, communities)\n",
    "    while maxModularity>0:\n",
    "        #print(maxModularity)\n",
    "        #nx.draw(G, pos, node_size=100)\n",
    "        colors=[]\n",
    "        for i in G.nodes():\n",
    "            for j in range(len(communities)):\n",
    "                if i in communities[j]:\n",
    "                    colors.append(j)\n",
    "        #nodes=nx.draw_networkx_nodes(G, pos, nodelist=G.nodes(), node_color=colors, node_size=100)\n",
    "        #plt.savefig(\"./images/les_mis\"+str(iteration)+\".png\", dpi=300)\n",
    "        #plt.show()\n",
    "        iteration+=1\n",
    "        maxModularity=-1\n",
    "        saveI=-1\n",
    "        saveJ=-1\n",
    "        for (i,j) in combinations(communities,2):\n",
    "            communities2=[]\n",
    "            for k in communities:\n",
    "                if k!=i and k!=j:\n",
    "                    communities2.append(k)\n",
    "            communities2.append(i+j)\n",
    "            if nx.algorithms.community.quality.modularity(G,communities2)-prevModularity>maxModularity:\n",
    "                maxModularity=nx.algorithms.community.quality.modularity(G,communities2)-prevModularity\n",
    "                saveI=i\n",
    "                saveJ=j\n",
    "        if maxModularity>0:\n",
    "            communities2=[]\n",
    "            for k in communities:\n",
    "                communities2.append(k)\n",
    "            communities=[]\n",
    "            for k in communities2:\n",
    "                if k!=saveI and k!=saveJ:\n",
    "                    communities.append(k)\n",
    "            communities.append(saveI+saveJ)\n",
    "        prevModularity=nx.algorithms.community.quality.modularity(G,communities)\n",
    "        \n",
    "    return communities"
   ]
  },
  {
   "cell_type": "code",
   "execution_count": null,
   "metadata": {},
   "outputs": [],
   "source": [
    "# Erdos Rainey Graph\n",
    "n=30\n",
    "\n",
    "for p in [0.1, 0.5, 0.9]:\n",
    "    \n",
    "    comm_count = []\n",
    "    for i in range(n):\n",
    "        \n",
    "        G=nx.erdos_renyi_graph(100, p)\n",
    "        pos=nx.spring_layout(G)\n",
    "\n",
    "        communities=[]\n",
    "        for i in G.nodes():\n",
    "            communities.append([i])\n",
    "        #print(communities)\n",
    "        #print(nx.algorithms.community.quality.modularity(G,communities))\n",
    "        \n",
    "        communities = compute_communities(G, communities)\n",
    "        comm_count.append(len(communities))\n",
    "        print(\"For iteration: \", i, \" p value: \", p, \" Number of communities: \", len(communities))\n",
    "        \n",
    "    print(\"Average for n=30 graphs: \", sum(comm_count)/n, \"p value: \", p)"
   ]
  },
  {
   "cell_type": "code",
   "execution_count": null,
   "metadata": {},
   "outputs": [],
   "source": [
    "# Barabasi Albert\n",
    "n=30\n",
    "comm_count = []\n",
    "\n",
    "for k in [1, 2, 3]:\n",
    "    \n",
    "    for i in range(n):\n",
    "        \n",
    "        G=nx.barabasi_albert_graph(100, k)\n",
    "        pos=nx.spring_layout(G)\n",
    "\n",
    "        communities=[]\n",
    "        for i in G.nodes():\n",
    "            communities.append([i])\n",
    "        #print(communities)\n",
    "        #print(nx.algorithms.community.quality.modularity(G,communities))\n",
    "        \n",
    "        communities = compute_communities(G, communities)\n",
    "        comm_count.append(len(communities))\n",
    "        print(\"For iteration: \", i, \" k value: \", k, \" Number of communities: \", len(communities))\n",
    "        \n",
    "    print(\"Average for n=30 graphs: \", sum(comm_count)/n, \"k value: \", k)"
   ]
  }
 ],
 "metadata": {
  "kernelspec": {
   "display_name": "Python 3",
   "language": "python",
   "name": "python3"
  },
  "language_info": {
   "codemirror_mode": {
    "name": "ipython",
    "version": 3
   },
   "file_extension": ".py",
   "mimetype": "text/x-python",
   "name": "python",
   "nbconvert_exporter": "python",
   "pygments_lexer": "ipython3",
   "version": "3.8.8"
  }
 },
 "nbformat": 4,
 "nbformat_minor": 2
}
