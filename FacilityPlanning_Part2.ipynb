{
 "cells": [
  {
   "cell_type": "code",
   "execution_count": 1,
   "metadata": {},
   "outputs": [],
   "source": [
    "# Author: Vanshika Gupta\n",
    "# Jointly with: Prof Chrysafis Vogiatzis"
   ]
  },
  {
   "cell_type": "code",
   "execution_count": 2,
   "metadata": {},
   "outputs": [],
   "source": [
    "from gurobipy import *\n",
    "import matplotlib.pyplot as plt"
   ]
  },
  {
   "cell_type": "markdown",
   "metadata": {},
   "source": [
    "#### Data"
   ]
  },
  {
   "cell_type": "code",
   "execution_count": 3,
   "metadata": {},
   "outputs": [],
   "source": [
    "# number of facilities\n",
    "nFacilities = 6\n",
    "nCustomers = 10\n",
    "\n",
    "# cost to send item from warehouse to customer y-> customer, x-> facility\n",
    "cost = [(3,5,8,12,10,11), (6,7,10,12,8,10), (5,3,8,10,12,10), (7,6,7,10,9,5), (10,8,5,8,6,5), (12,6,4,7,5,4),\n",
    "        (7,10,6,6,8,3), (5,6,9,4,4,7), (8,10,7,5,4,6), (10,12,8,3,4,6) ] \n",
    "\n",
    "# cost to open facility\n",
    "fixedCost = [1750000, 2000000, 2500000, 2250000, 1500000, 1000000] \n",
    "\n",
    "#facility capacity\n",
    "capacity = [75, 50, 120, 100, 60, 50]\n",
    "\n",
    "# customer demand\n",
    "demand = [25, 15, 20, 10, 15, 15, 25, 20, 30, 20]"
   ]
  },
  {
   "cell_type": "markdown",
   "metadata": {},
   "source": [
    "#### Variables"
   ]
  },
  {
   "cell_type": "code",
   "execution_count": 4,
   "metadata": {},
   "outputs": [],
   "source": [
    "# number of items shipped from warehouse to customer y-> customer, x-> facility\n",
    "itemCount = {}\n",
    "\n",
    "# whether facility is open or closed\n",
    "y = {}\n",
    "\n",
    "# whether facility is supplying customer or not\n",
    "z = {}"
   ]
  },
  {
   "cell_type": "markdown",
   "metadata": {},
   "source": [
    "#### Creating a model and Add Variables"
   ]
  },
  {
   "cell_type": "code",
   "execution_count": 5,
   "metadata": {},
   "outputs": [
    {
     "name": "stdout",
     "output_type": "stream",
     "text": [
      "Academic license - for non-commercial use only - expires 2022-09-08\n",
      "Using license file /home/vanshika/gurobi.lic\n"
     ]
    }
   ],
   "source": [
    "model=Model(\"facilities\")\n",
    "\n",
    "y = model.addVars(nFacilities, vtype = GRB.BINARY)\n",
    "itemCount = model.addVars(nCustomers, nFacilities, vtype = GRB.INTEGER)\n",
    "z = model.addVars(nCustomers, nFacilities, vtype = GRB.BINARY)"
   ]
  },
  {
   "cell_type": "markdown",
   "metadata": {},
   "source": [
    "#### Adding constraint"
   ]
  },
  {
   "cell_type": "code",
   "execution_count": 6,
   "metadata": {},
   "outputs": [],
   "source": [
    "# number of open facilities is less than or equal to total\n",
    "model.addConstr(quicksum(y) <= nFacilities)\n",
    "\n",
    "for i in range(nFacilities):\n",
    "    expr = 0\n",
    "    for j in range(nCustomers):\n",
    "        expr += itemCount[j,i]\n",
    "    model.addConstr(expr <= capacity[i]*y[i])\n",
    "    \n",
    "for i in range(nCustomers):\n",
    "    expr = 0\n",
    "    for j in range(nFacilities):\n",
    "        expr += itemCount[i,j]*z[i,j]\n",
    "    model.addConstr(expr == demand[i])\n",
    "    \n",
    "for i in range(nCustomers):\n",
    "    expr = 0\n",
    "    for j in range(nFacilities):\n",
    "        expr += z[i,j]\n",
    "    model.addConstr(expr == 1)"
   ]
  },
  {
   "cell_type": "markdown",
   "metadata": {},
   "source": [
    "#### Set Objective"
   ]
  },
  {
   "cell_type": "code",
   "execution_count": 7,
   "metadata": {},
   "outputs": [],
   "source": [
    "obj = 0\n",
    "for i in range(nFacilities):\n",
    "    for j in range(nCustomers):\n",
    "        obj += cost[j][i]*itemCount[j,i]\n",
    "    obj += fixedCost[i]*y[i]\n",
    "    \n",
    "model.setObjective(obj)"
   ]
  },
  {
   "cell_type": "code",
   "execution_count": 8,
   "metadata": {},
   "outputs": [
    {
     "name": "stdout",
     "output_type": "stream",
     "text": [
      "Gurobi Optimizer version 9.1.2 build v9.1.2rc0 (linux64)\n",
      "Thread count: 8 physical cores, 16 logical processors, using up to 16 threads\n",
      "Optimize a model with 17 rows, 126 columns and 132 nonzeros\n",
      "Model fingerprint: 0xb1541b71\n",
      "Model has 10 quadratic constraints\n",
      "Variable types: 0 continuous, 126 integer (66 binary)\n",
      "Coefficient statistics:\n",
      "  Matrix range     [1e+00, 1e+02]\n",
      "  QMatrix range    [1e+00, 1e+00]\n",
      "  Objective range  [3e+00, 2e+06]\n",
      "  Bounds range     [1e+00, 1e+00]\n",
      "  RHS range        [1e+00, 6e+00]\n",
      "  QRHS range       [1e+01, 3e+01]\n",
      "Presolve removed 1 rows and 0 columns\n",
      "Presolve time: 0.00s\n",
      "Presolved: 206 rows, 186 columns, 606 nonzeros\n",
      "Variable types: 0 continuous, 186 integer (66 binary)\n",
      "Found heuristic solution: objective 1.100074e+07\n",
      "Found heuristic solution: objective 6751255.0000\n",
      "Found heuristic solution: objective 6500860.0000\n",
      "\n",
      "Root relaxation: objective 4.063665e+06, 22 iterations, 0.00 seconds\n",
      "\n",
      "    Nodes    |    Current Node    |     Objective Bounds      |     Work\n",
      " Expl Unexpl |  Obj  Depth IntInf | Incumbent    BestBd   Gap | It/Node Time\n",
      "\n",
      "     0     0 4063665.00    0    3 6500860.00 4063665.00  37.5%     -    0s\n",
      "H    0     0                    5001275.0000 4063665.00  18.7%     -    0s\n",
      "     0     0 4251105.00    0    2 5001275.00 4251105.00  15.0%     -    0s\n",
      "H    0     0                    4251290.0000 4251105.00  0.00%     -    0s\n",
      "\n",
      "Cutting planes:\n",
      "  Gomory: 2\n",
      "  Cover: 1\n",
      "\n",
      "Explored 1 nodes (27 simplex iterations) in 0.03 seconds\n",
      "Thread count was 16 (of 16 available processors)\n",
      "\n",
      "Solution count 5: 4.25129e+06 5.00128e+06 6.50086e+06 ... 1.10007e+07\n",
      "\n",
      "Optimal solution found (tolerance 1.00e-04)\n",
      "Best objective 4.251290000000e+06, best bound 4.251105000000e+06, gap 0.0044%\n"
     ]
    }
   ],
   "source": [
    "model.optimize()"
   ]
  },
  {
   "cell_type": "markdown",
   "metadata": {},
   "source": [
    "#### Print Result"
   ]
  },
  {
   "cell_type": "code",
   "execution_count": 9,
   "metadata": {},
   "outputs": [
    {
     "name": "stdout",
     "output_type": "stream",
     "text": [
      "Facility\t Open/Closed\n",
      "1 \t\t 1\n",
      "2 \t\t 0\n",
      "3 \t\t 1\n",
      "4 \t\t 0\n",
      "5 \t\t 0\n",
      "6 \t\t 0\n",
      "\n",
      "\n",
      "Customer\tItemCount for Facility (F)\n",
      "\n",
      "\t\t F1\t F2\t F3\t F4\t F5\t F6 \n",
      "\n",
      "Customer 1\t 25\t 0\t 0\t 0\t 0\t 0\n",
      "\n",
      "Customer 2\t 15\t 0\t 0\t 0\t 0\t 0\n",
      "\n",
      "Customer 3\t 20\t 0\t 0\t 0\t 0\t 0\n",
      "\n",
      "Customer 4\t 0\t 0\t 10\t 0\t 0\t 0\n",
      "\n",
      "Customer 5\t 0\t 0\t 15\t 0\t 0\t 0\n",
      "\n",
      "Customer 6\t 15\t 0\t 0\t 0\t 0\t 0\n",
      "\n",
      "Customer 7\t 0\t 0\t 25\t 0\t 0\t 0\n",
      "\n",
      "Customer 8\t 0\t 0\t 20\t 0\t 0\t 0\n",
      "\n",
      "Customer 9\t 0\t 0\t 30\t 0\t 0\t 0\n",
      "\n",
      "Customer 10\t 0\t 0\t 20\t 0\t 0\t 0\n",
      "\n"
     ]
    }
   ],
   "source": [
    "print(\"Facility\\t Open/Closed\")\n",
    "for i in range(nFacilities):\n",
    "    print(i+1,'\\t\\t', round(y[i].X))\n",
    "print('\\n')\n",
    "    \n",
    "print(\"Customer\\tItemCount for Facility (F)\\n\")\n",
    "print('\\t\\t F1\\t F2\\t F3\\t F4\\t F5\\t F6 \\n',)\n",
    "for i in range(nCustomers):\n",
    "    print('Customer', i+1, end='')\n",
    "    for j in range(nFacilities):\n",
    "        print('\\t', round(itemCount[i,j].X), end='')\n",
    "    print('\\n')"
   ]
  },
  {
   "cell_type": "code",
   "execution_count": 10,
   "metadata": {},
   "outputs": [
    {
     "name": "stdout",
     "output_type": "stream",
     "text": [
      "Min Total Cost incurred: $ 4251290.0\n"
     ]
    }
   ],
   "source": [
    "print(\"Min Total Cost incurred: $\", model.getObjective().getValue())"
   ]
  }
 ],
 "metadata": {
  "kernelspec": {
   "display_name": "Python 3",
   "language": "python",
   "name": "python3"
  },
  "language_info": {
   "codemirror_mode": {
    "name": "ipython",
    "version": 3
   },
   "file_extension": ".py",
   "mimetype": "text/x-python",
   "name": "python",
   "nbconvert_exporter": "python",
   "pygments_lexer": "ipython3",
   "version": "3.8.8"
  }
 },
 "nbformat": 4,
 "nbformat_minor": 2
}
