{
 "cells": [
  {
   "cell_type": "code",
   "execution_count": 1,
   "metadata": {},
   "outputs": [],
   "source": [
    "# Author: Vanshika Gupta\n",
    "# Jointly with: Prof Chrysafis Vogiatzis\n",
    "# Acknowledgement: https://neos-guide.org/content/sudoku"
   ]
  },
  {
   "cell_type": "code",
   "execution_count": 2,
   "metadata": {},
   "outputs": [],
   "source": [
    "from gurobipy import *\n",
    "import matplotlib.pyplot as plt\n",
    "import numpy as np"
   ]
  },
  {
   "cell_type": "markdown",
   "metadata": {},
   "source": [
    "#### Data"
   ]
  },
  {
   "cell_type": "code",
   "execution_count": 3,
   "metadata": {},
   "outputs": [],
   "source": [
    "# dimension of outer Sudoku\n",
    "nD = 9\n",
    "\n",
    "# dimension of smaller box\n",
    "nd = 3\n",
    "\n",
    "# Predefined Matrix\n",
    "preS = [(0, 0 ,6, 0, 8, 0, 5, 0, 0),\n",
    "        (9, 0, 0, 3, 0, 0, 0, 2, 0),\n",
    "        (0, 4, 0, 0, 0, 1, 0, 0, 7), \n",
    "        (0, 0, 0, 0, 0, 5, 6, 0, 0),\n",
    "        (0, 2, 0, 0, 4, 0, 0, 1, 0),\n",
    "        (3, 0, 0, 0, 0, 0, 0, 0, 9),\n",
    "        (0, 0, 1, 9, 0, 0, 0, 3, 0),\n",
    "        (0, 0, 0, 0, 2, 0, 4, 0, 0),\n",
    "        (0, 5, 0, 0, 0, 7, 0, 0, 0)]"
   ]
  },
  {
   "cell_type": "markdown",
   "metadata": {},
   "source": [
    "#### Variables"
   ]
  },
  {
   "cell_type": "code",
   "execution_count": 4,
   "metadata": {},
   "outputs": [],
   "source": [
    "# final configuration of Sudoku\n",
    "postS = {}"
   ]
  },
  {
   "cell_type": "markdown",
   "metadata": {},
   "source": [
    "#### Create Model & Variables"
   ]
  },
  {
   "cell_type": "code",
   "execution_count": 5,
   "metadata": {},
   "outputs": [
    {
     "name": "stdout",
     "output_type": "stream",
     "text": [
      "Academic license - for non-commercial use only - expires 2022-09-08\n",
      "Using license file /home/vanshika/gurobi.lic\n"
     ]
    }
   ],
   "source": [
    "model=Model(\"Sudoku\")\n",
    "\n",
    "postS = model.addVars(nD, nD, nD, vtype = GRB.BINARY)"
   ]
  },
  {
   "cell_type": "markdown",
   "metadata": {},
   "source": [
    "#### Constraint"
   ]
  },
  {
   "cell_type": "code",
   "execution_count": 6,
   "metadata": {},
   "outputs": [],
   "source": [
    "# preDefined Matrix should be same\n",
    "for i in range(nD):\n",
    "    for j in range(nD):\n",
    "        if(preS[i][j]!=0):\n",
    "            model.addConstr(postS[i,j,preS[i][j]-1] == 1)\n",
    "\n",
    "# projection of 3-D on X-Z plane is ones(9x9)\n",
    "for i in range(nD):\n",
    "    for j in range(nD):\n",
    "        expr = 0\n",
    "        for k in range(nD):\n",
    "            expr += postS[k,i,j]\n",
    "        model.addConstr(expr == 1)\n",
    "        \n",
    "# projection of 3-D on Y-Z plane is ones(9x9)\n",
    "for i in range(nD):\n",
    "    for j in range(nD):\n",
    "        expr = 0\n",
    "        for k in range(nD):\n",
    "            expr += postS[i,k,j]\n",
    "        model.addConstr(expr == 1)\n",
    "        \n",
    "# no cell is left empty\n",
    "for i in range(nD):\n",
    "    for j in range(nD):\n",
    "        expr = 0\n",
    "        for k in range(nD):\n",
    "            expr += postS[i,j,k]\n",
    "        model.addConstr(expr == 1)\n",
    "        \n",
    "# projection of 3x3 box when opened along one direction is vector of 1s\n",
    "for n in range(nd):\n",
    "    for m in range(nd):\n",
    "        for k in range(nD):\n",
    "            expr = 0\n",
    "            for r in range(nd):\n",
    "                for s in range(nd):\n",
    "                    expr += postS[3*n+r, 3*m+s, k]\n",
    "            model.addConstr(expr == 1)"
   ]
  },
  {
   "cell_type": "markdown",
   "metadata": {},
   "source": [
    "#### Optimize"
   ]
  },
  {
   "cell_type": "code",
   "execution_count": 7,
   "metadata": {},
   "outputs": [
    {
     "name": "stdout",
     "output_type": "stream",
     "text": [
      "Gurobi Optimizer version 9.1.2 build v9.1.2rc0 (linux64)\n",
      "Thread count: 8 physical cores, 16 logical processors, using up to 16 threads\n",
      "Optimize a model with 347 rows, 729 columns and 2939 nonzeros\n",
      "Model fingerprint: 0xc1023a14\n",
      "Variable types: 0 continuous, 729 integer (729 binary)\n",
      "Coefficient statistics:\n",
      "  Matrix range     [1e+00, 1e+00]\n",
      "  Objective range  [0e+00, 0e+00]\n",
      "  Bounds range     [1e+00, 1e+00]\n",
      "  RHS range        [1e+00, 1e+00]\n",
      "Presolve removed 347 rows and 729 columns\n",
      "Presolve time: 0.00s\n",
      "Presolve: All rows and columns removed\n",
      "\n",
      "Explored 0 nodes (0 simplex iterations) in 0.02 seconds\n",
      "Thread count was 1 (of 16 available processors)\n",
      "\n",
      "Solution count 1: 0 \n",
      "\n",
      "Optimal solution found (tolerance 1.00e-04)\n",
      "Best objective 0.000000000000e+00, best bound 0.000000000000e+00, gap 0.0000%\n"
     ]
    }
   ],
   "source": [
    "model.optimize()"
   ]
  },
  {
   "cell_type": "markdown",
   "metadata": {},
   "source": [
    "#### Print FInal Solution"
   ]
  },
  {
   "cell_type": "code",
   "execution_count": 8,
   "metadata": {},
   "outputs": [
    {
     "name": "stdout",
     "output_type": "stream",
     "text": [
      "Predefined Sudoku: \n",
      "\n",
      "[[0 0 6 0 8 0 5 0 0]\n",
      " [9 0 0 3 0 0 0 2 0]\n",
      " [0 4 0 0 0 1 0 0 7]\n",
      " [0 0 0 0 0 5 6 0 0]\n",
      " [0 2 0 0 4 0 0 1 0]\n",
      " [3 0 0 0 0 0 0 0 9]\n",
      " [0 0 1 9 0 0 0 3 0]\n",
      " [0 0 0 0 2 0 4 0 0]\n",
      " [0 5 0 0 0 7 0 0 0]] \n",
      "\n",
      "Solved Sudoku: \n",
      "\n",
      "[[1 3 6 7 8 2 5 9 4]\n",
      " [9 8 7 3 5 4 1 2 6]\n",
      " [5 4 2 6 9 1 3 8 7]\n",
      " [7 9 8 1 3 5 6 4 2]\n",
      " [6 2 5 8 4 9 7 1 3]\n",
      " [3 1 4 2 7 6 8 5 9]\n",
      " [4 7 1 9 6 8 2 3 5]\n",
      " [8 6 9 5 2 3 4 7 1]\n",
      " [2 5 3 4 1 7 9 6 8]]\n"
     ]
    }
   ],
   "source": [
    "print(\"Predefined Sudoku: \\n\")\n",
    "print(np.asarray(preS), '\\n')\n",
    "\n",
    "p = np.ones( (9, 9),  dtype=np.int32 )\n",
    "for i in range(nD):\n",
    "    for j in range(nD):\n",
    "        for k in range(nD):\n",
    "            if(postS[i,j,k].X==1):\n",
    "                p[i,j]=k+1\n",
    "\n",
    "print(\"Solved Sudoku: \\n\")\n",
    "print(p)"
   ]
  }
 ],
 "metadata": {
  "kernelspec": {
   "display_name": "Python 3",
   "language": "python",
   "name": "python3"
  },
  "language_info": {
   "codemirror_mode": {
    "name": "ipython",
    "version": 3
   },
   "file_extension": ".py",
   "mimetype": "text/x-python",
   "name": "python",
   "nbconvert_exporter": "python",
   "pygments_lexer": "ipython3",
   "version": "3.8.8"
  }
 },
 "nbformat": 4,
 "nbformat_minor": 2
}
