{
 "cells": [
  {
   "cell_type": "code",
   "execution_count": 1,
   "metadata": {},
   "outputs": [],
   "source": [
    "# Author: Vanshika Gupta\n",
    "# Jointly with: Prof Chrysafis Vogiatzis"
   ]
  },
  {
   "cell_type": "code",
   "execution_count": 2,
   "metadata": {},
   "outputs": [],
   "source": [
    "from gurobipy import *\n",
    "import numpy as np\n",
    "import matplotlib.pyplot as plt"
   ]
  },
  {
   "cell_type": "markdown",
   "metadata": {},
   "source": [
    "#### Data"
   ]
  },
  {
   "cell_type": "code",
   "execution_count": 3,
   "metadata": {},
   "outputs": [
    {
     "name": "stdout",
     "output_type": "stream",
     "text": [
      "[[110   0   0   0   0   0]\n",
      " [  0 130   0   0   0   0]\n",
      " [  0   0 103   0   0   0]\n",
      " [  0   0   0 140   0   0]\n",
      " [  0   0   0   0 135   0]\n",
      " [  0   0   0   0   0   0]]\n"
     ]
    }
   ],
   "source": [
    "# number of Flights\n",
    "nFlights = 6\n",
    "\n",
    "# Reservations/Bookings\n",
    "reserve = [110, 130, 103, 140, 135, 0]\n",
    "\n",
    "# airline capacity #last kept like bigM as other airlines can be used indefinitely as per the question\n",
    "capacity = [100, 100, 100, 150, 150, 2000]\n",
    "\n",
    "# fixed and variable Penality\n",
    "fPenalty = 200\n",
    "vPenalty = 80\n",
    "\n",
    "# initial configuration of passengers y-> initial scheduled flight x-> final sheduled flight\n",
    "initialFlight = np.diag(np.array(reserve))\n",
    "print(initialFlight)"
   ]
  },
  {
   "cell_type": "markdown",
   "metadata": {},
   "source": [
    "#### Variables"
   ]
  },
  {
   "cell_type": "code",
   "execution_count": 4,
   "metadata": {},
   "outputs": [],
   "source": [
    "# final configuration of passengers y-> initial scheduled flight x-> final sheduled flight\n",
    "finalFlight = {}"
   ]
  },
  {
   "cell_type": "markdown",
   "metadata": {},
   "source": [
    "#### Create Model & Variables"
   ]
  },
  {
   "cell_type": "code",
   "execution_count": 5,
   "metadata": {},
   "outputs": [
    {
     "name": "stdout",
     "output_type": "stream",
     "text": [
      "Academic license - for non-commercial use only - expires 2022-09-08\n",
      "Using license file /home/vanshika/gurobi.lic\n"
     ]
    }
   ],
   "source": [
    "model=Model(\"facilities\")\n",
    "\n",
    "finalFlight = model.addVars(nFlights, nFlights, vtype = GRB.INTEGER)"
   ]
  },
  {
   "cell_type": "markdown",
   "metadata": {},
   "source": [
    "#### Constraint"
   ]
  },
  {
   "cell_type": "code",
   "execution_count": 6,
   "metadata": {},
   "outputs": [],
   "source": [
    "# number of passengers should not exceed capacity\n",
    "for i in range(nFlights):\n",
    "    expr = 0\n",
    "    for j in range(nFlights):\n",
    "        expr += finalFlight[j,i]\n",
    "    model.addConstr(expr <= capacity[i])\n",
    "    \n",
    "# number of passenger originally in a flight should equal the reservations made i.e.row sum=reservations \n",
    "for i in range(nFlights):\n",
    "    expr = 0\n",
    "    for j in range(nFlights):\n",
    "        expr += finalFlight[i,j]\n",
    "    model.addConstr(expr == reserve[i])\n",
    "    \n",
    "# lower triangle should be 0 (since all solutions are +ve by default, we can also say sum of lower triangle is 0)    \n",
    "for i in range(nFlights):\n",
    "    expr = 0\n",
    "    for j in range(i):\n",
    "        expr += finalFlight[i,j]\n",
    "    model.addConstr(expr == 0)"
   ]
  },
  {
   "cell_type": "markdown",
   "metadata": {},
   "source": [
    "#### Objective"
   ]
  },
  {
   "cell_type": "code",
   "execution_count": 7,
   "metadata": {},
   "outputs": [],
   "source": [
    "obj = 0\n",
    "for i in range(nFlights):\n",
    "    for j in range(i+1,nFlights):\n",
    "        obj += (fPenalty + vPenalty*(j-i-1))*finalFlight[i,j]\n",
    "\n",
    "model.setObjective(obj)"
   ]
  },
  {
   "cell_type": "markdown",
   "metadata": {},
   "source": [
    "#### Optimize"
   ]
  },
  {
   "cell_type": "code",
   "execution_count": 8,
   "metadata": {},
   "outputs": [
    {
     "name": "stdout",
     "output_type": "stream",
     "text": [
      "Gurobi Optimizer version 9.1.2 build v9.1.2rc0 (linux64)\n",
      "Thread count: 8 physical cores, 16 logical processors, using up to 16 threads\n",
      "Optimize a model with 18 rows, 36 columns and 87 nonzeros\n",
      "Model fingerprint: 0x33cbc7a8\n",
      "Variable types: 0 continuous, 36 integer (0 binary)\n",
      "Coefficient statistics:\n",
      "  Matrix range     [1e+00, 1e+00]\n",
      "  Objective range  [2e+02, 5e+02]\n",
      "  Bounds range     [0e+00, 0e+00]\n",
      "  RHS range        [1e+02, 2e+03]\n",
      "Found heuristic solution: objective 170240.00000\n",
      "Presolve removed 10 rows and 21 columns\n",
      "Presolve time: 0.00s\n",
      "Presolved: 8 rows, 15 columns, 28 nonzeros\n",
      "Variable types: 0 continuous, 15 integer (0 binary)\n",
      "\n",
      "Root relaxation: objective 1.668000e+04, 4 iterations, 0.00 seconds\n",
      "\n",
      "    Nodes    |    Current Node    |     Objective Bounds      |     Work\n",
      " Expl Unexpl |  Obj  Depth IntInf | Incumbent    BestBd   Gap | It/Node Time\n",
      "\n",
      "*    0     0               0    16680.000000 16680.0000  0.00%     -    0s\n",
      "\n",
      "Explored 0 nodes (4 simplex iterations) in 0.01 seconds\n",
      "Thread count was 16 (of 16 available processors)\n",
      "\n",
      "Solution count 2: 16680 170240 \n",
      "\n",
      "Optimal solution found (tolerance 1.00e-04)\n",
      "Best objective 1.668000000000e+04, best bound 1.668000000000e+04, gap 0.0000%\n"
     ]
    }
   ],
   "source": [
    "model.optimize()"
   ]
  },
  {
   "cell_type": "markdown",
   "metadata": {},
   "source": [
    "#### Print FInal Solution"
   ]
  },
  {
   "cell_type": "code",
   "execution_count": 9,
   "metadata": {},
   "outputs": [
    {
     "name": "stdout",
     "output_type": "stream",
     "text": [
      "Final Flight Configuration \n",
      "\n",
      "\t 0 )\t 1 )\t 2 )\t 3 )\t 4 )\t 5 )\n",
      "\n",
      "0 )\t100 \t0 \t0 \t0 \t10 \t0 \t\n",
      "\n",
      "1 )\t0 \t100 \t0 \t10 \t5 \t15 \t\n",
      "\n",
      "2 )\t0 \t0 \t100 \t0 \t0 \t3 \t\n",
      "\n",
      "3 )\t0 \t0 \t0 \t140 \t0 \t0 \t\n",
      "\n",
      "4 )\t0 \t0 \t0 \t0 \t135 \t0 \t\n",
      "\n",
      "5 )\t0 \t0 \t0 \t0 \t0 \t0 \t\n",
      "\n"
     ]
    }
   ],
   "source": [
    "print(\"Final Flight Configuration \\n\")\n",
    "for i in range(nFlights):\n",
    "    print('\\t', i, ')', end='')\n",
    "print('\\n')\n",
    "for i in range(nFlights):\n",
    "    print(i, ')\\t', end='')\n",
    "    for j in range(nFlights):\n",
    "        print(round(finalFlight[i,j].X),'\\t', end='')\n",
    "    print('\\n')"
   ]
  },
  {
   "cell_type": "code",
   "execution_count": 10,
   "metadata": {},
   "outputs": [
    {
     "name": "stdout",
     "output_type": "stream",
     "text": [
      "Min Cost incurred to the airlines: $ 16680.0\n"
     ]
    }
   ],
   "source": [
    "print(\"Min Cost incurred to the airlines: $\", model.getObjective().getValue())"
   ]
  }
 ],
 "metadata": {
  "kernelspec": {
   "display_name": "Python 3",
   "language": "python",
   "name": "python3"
  },
  "language_info": {
   "codemirror_mode": {
    "name": "ipython",
    "version": 3
   },
   "file_extension": ".py",
   "mimetype": "text/x-python",
   "name": "python",
   "nbconvert_exporter": "python",
   "pygments_lexer": "ipython3",
   "version": "3.8.8"
  }
 },
 "nbformat": 4,
 "nbformat_minor": 2
}
